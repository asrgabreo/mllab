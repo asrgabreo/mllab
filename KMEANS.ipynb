{
 "cells": [
  {
   "cell_type": "code",
   "execution_count": 1,
   "metadata": {},
   "outputs": [],
   "source": [
    "X = [\n",
    "    [5.9, 3.2],\n",
    "    [4.6, 2.9],\n",
    "    [6.2, 2.8],\n",
    "    [4.7, 3.2],\n",
    "    [5.5, 4.2],\n",
    "    [5.0, 3.0],\n",
    "    [4.9, 3.1],\n",
    "    [6.7, 3.1],\n",
    "    [5.1, 3.8],\n",
    "    [6.0, 3.0]\n",
    "]"
   ]
  },
  {
   "cell_type": "code",
   "execution_count": 2,
   "metadata": {},
   "outputs": [],
   "source": [
    "centroids = [[6.2, 3.2], [6.6, 3.7], [6.5, 3.0]]\n",
    "clusters = {}"
   ]
  },
  {
   "cell_type": "code",
   "execution_count": 3,
   "metadata": {},
   "outputs": [],
   "source": [
    "def eucli_dist(x1,x2,y1,y2):\n",
    "    dist = (((x2-x1)**2) + ((y2-y1)**2))**(1/2)\n",
    "    return dist"
   ]
  },
  {
   "cell_type": "code",
   "execution_count": 4,
   "metadata": {},
   "outputs": [],
   "source": [
    "def k_means(X, centroids):\n",
    "    \n",
    "    for i in range(3):\n",
    "        clusters[i] = []\n",
    "\n",
    "    for i in range(len(X)):\n",
    "        euc_dist = []\n",
    "\n",
    "        for j in range(3):\n",
    "            euc_dist.append(eucli_dist( X[i][0], centroids[j][0], X[i][1], centroids[j][1] ))\n",
    "\n",
    "        cent_ind = euc_dist.index(min(euc_dist))\n",
    "        clusters[cent_ind].append(X[i])\n",
    "\n",
    "    return clusters"
   ]
  },
  {
   "cell_type": "code",
   "execution_count": 5,
   "metadata": {},
   "outputs": [],
   "source": [
    "def new_cent(X, centroids):\n",
    "    for i in range(3):\n",
    "            x_sum = 0\n",
    "            y_sum = 0\n",
    "            len_c=len(clusters[i])\n",
    "            for j in range(len_c):\n",
    "                x_sum += clusters[i][j][0]\n",
    "                y_sum += clusters[i][j][1]\n",
    "            centroids[i] = [round( (x_sum / len_c),3) , round( (y_sum / len_c) , 3)]\n",
    "\n",
    "    return centroids"
   ]
  },
  {
   "cell_type": "code",
   "execution_count": 6,
   "metadata": {},
   "outputs": [
    {
     "name": "stdout",
     "output_type": "stream",
     "text": [
      "\n",
      "Centroids during iteration 1: [[5.171, 3.171], [5.5, 4.2], [6.45, 2.95]]\n",
      "Centre of the 1st cluster after 1 iteration:  [5.171, 3.171]\n",
      "\n",
      "Centroids during iteration 2: [[4.8, 3.05], [5.3, 4.0], [6.2, 3.025]]\n",
      "Centre of the 2nd cluster after 2 iterations:  [5.3, 4.0]\n",
      "\n",
      "Centroids during iteration 3: [[4.8, 3.05], [5.3, 4.0], [6.2, 3.025]]\n",
      "\n",
      "Centroids during iteration 4: [[4.8, 3.05], [5.3, 4.0], [6.2, 3.025]]\n",
      "\n",
      "Centroids during iteration 5: [[4.8, 3.05], [5.3, 4.0], [6.2, 3.025]]\n"
     ]
    }
   ],
   "source": [
    "for i in range(5):\n",
    "    clusters = k_means(X,centroids)\n",
    "    centroids = new_cent(X,centroids)\n",
    "    \n",
    "    print(\"\\nCentroids during iteration {}: {}\".format(i+1,centroids))\n",
    "\n",
    "    if i == 0:\n",
    "        print(\"Centre of the 1st cluster after 1 iteration: \", centroids[0])\n",
    "    elif i == 1:\n",
    "        print(\"Centre of the 2nd cluster after 2 iterations: \", centroids[1])"
   ]
  },
  {
   "cell_type": "code",
   "execution_count": 7,
   "metadata": {},
   "outputs": [
    {
     "name": "stdout",
     "output_type": "stream",
     "text": [
      "Centre of the third cluster after it converges:  [6.2, 3.025]\n"
     ]
    }
   ],
   "source": [
    "print(\"Centre of the third cluster after it converges: \", centroids[2])"
   ]
  },
  {
   "cell_type": "code",
   "execution_count": 8,
   "metadata": {},
   "outputs": [
    {
     "name": "stdout",
     "output_type": "stream",
     "text": [
      "The number of iterations required for clusters to converge is 3\n"
     ]
    }
   ],
   "source": [
    "print(\"The number of iterations required for clusters to converge is 3\")"
   ]
  }
 ],
 "metadata": {
  "kernelspec": {
   "display_name": "Python 3",
   "language": "python",
   "name": "python3"
  },
  "language_info": {
   "codemirror_mode": {
    "name": "ipython",
    "version": 3
   },
   "file_extension": ".py",
   "mimetype": "text/x-python",
   "name": "python",
   "nbconvert_exporter": "python",
   "pygments_lexer": "ipython3",
   "version": "3.8.10"
  }
 },
 "nbformat": 4,
 "nbformat_minor": 4
}
