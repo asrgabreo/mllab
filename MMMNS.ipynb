{
 "cells": [
  {
   "cell_type": "code",
   "execution_count": 1,
   "metadata": {},
   "outputs": [],
   "source": [
    "inp=[115.3,195.5,120.5,110.2,90.4,105.6,110.9,116.3,122.3,125.4]"
   ]
  },
  {
   "cell_type": "code",
   "execution_count": 2,
   "metadata": {},
   "outputs": [
    {
     "name": "stdout",
     "output_type": "stream",
     "text": [
      "Mean: 121.24000000000001\n"
     ]
    }
   ],
   "source": [
    "#mean\n",
    "sumn = 0\n",
    "n = len(inp) \n",
    "for i in inp:\n",
    "    sumn+=i\n",
    "mean = sumn/n\n",
    "print('Mean:',mean)"
   ]
  },
  {
   "cell_type": "code",
   "execution_count": 3,
   "metadata": {},
   "outputs": [
    {
     "name": "stdout",
     "output_type": "stream",
     "text": [
      "Median 115.8\n"
     ]
    }
   ],
   "source": [
    "#median\n",
    "inp.sort()\n",
    "mid=n//2\n",
    "if n%2==0:\n",
    "    med=(inp[mid]+inp[mid-1])/2\n",
    "else:\n",
    "    med=inp[mid]\n",
    "print('Median',med)"
   ]
  },
  {
   "cell_type": "code",
   "execution_count": 4,
   "metadata": {},
   "outputs": [
    {
     "name": "stdout",
     "output_type": "stream",
     "text": [
      "No mode found\n"
     ]
    }
   ],
   "source": [
    "#mode\n",
    "dict = {}\n",
    "for i in inp:\n",
    "    if(i in dict):\n",
    "        dict[i] += 1\n",
    "    else:\n",
    "        dict[i] = 1\n",
    "        \n",
    "maxV = 0\n",
    "for key, value in dict.items():\n",
    "    if(value > maxV):\n",
    "        maxV=value\n",
    "\n",
    "modes=[]   \n",
    "for key, value in dict.items():\n",
    "    if(value == maxV):\n",
    "        modes.append(key)\n",
    "\n",
    "if(len(modes)==n):\n",
    "    print(\"No mode found\")\n",
    "else:\n",
    "    print(\"Mode:\",modes)"
   ]
  },
  {
   "cell_type": "code",
   "execution_count": 5,
   "metadata": {},
   "outputs": [
    {
     "name": "stdout",
     "output_type": "stream",
     "text": [
      "Variance: 701.7724000000001\n"
     ]
    }
   ],
   "source": [
    "#variance\n",
    "sumv = 0\n",
    "for number in inp:\n",
    "    sumv+=(number-mean)**2\n",
    "variance = sumv/n\n",
    "print('Variance:',variance)"
   ]
  },
  {
   "cell_type": "code",
   "execution_count": 6,
   "metadata": {},
   "outputs": [
    {
     "name": "stdout",
     "output_type": "stream",
     "text": [
      "Standard deviation 26.490987146574966\n"
     ]
    }
   ],
   "source": [
    "#standard deviation\n",
    "stdev = variance**(1/2)\n",
    "print('Standard deviation',stdev)"
   ]
  },
  {
   "cell_type": "code",
   "execution_count": 7,
   "metadata": {},
   "outputs": [
    {
     "name": "stdout",
     "output_type": "stream",
     "text": [
      "Normalized data: [0.0, 0.145, 0.188, 0.195, 0.237, 0.246, 0.286, 0.304, 0.333, 1.0]\n"
     ]
    }
   ],
   "source": [
    "#min-max normalization\n",
    "maxm = max(inp)\n",
    "minm = min(inp)\n",
    "nd = []\n",
    "for i in inp:\n",
    "    nd.append(round((i - minm)/(maxm - minm),3))\n",
    "print('Normalized data:',nd)"
   ]
  },
  {
   "cell_type": "code",
   "execution_count": 8,
   "metadata": {},
   "outputs": [
    {
     "name": "stdout",
     "output_type": "stream",
     "text": [
      "Standardised data: [-1.164, -0.59, -0.417, -0.39, -0.224, -0.186, -0.028, 0.04, 0.157, 2.803]\n"
     ]
    }
   ],
   "source": [
    "#standardization\n",
    "sd=[]\n",
    "for i in inp:\n",
    "    sd.append(round((i - mean)/stdev, 3))\n",
    "print('Standardised data:',sd)"
   ]
  }
 ],
 "metadata": {
  "kernelspec": {
   "display_name": "Python 3",
   "language": "python",
   "name": "python3"
  },
  "language_info": {
   "codemirror_mode": {
    "name": "ipython",
    "version": 3
   },
   "file_extension": ".py",
   "mimetype": "text/x-python",
   "name": "python",
   "nbconvert_exporter": "python",
   "pygments_lexer": "ipython3",
   "version": "3.8.10"
  }
 },
 "nbformat": 4,
 "nbformat_minor": 4
}
